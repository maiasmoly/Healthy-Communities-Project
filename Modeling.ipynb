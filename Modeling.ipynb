{
 "cells": [
  {
   "attachments": {},
   "cell_type": "markdown",
   "metadata": {},
   "source": [
    "# Modeling\n",
    "\n",
    "The goal is to use the variables in the dataset to predict the obesity rate in any county"
   ]
  },
  {
   "cell_type": "code",
   "execution_count": 46,
   "metadata": {},
   "outputs": [],
   "source": [
    "import pandas as pd\n",
    "import seaborn as sns\n",
    "from sklearn.linear_model import LinearRegression\n",
    "from sklearn.model_selection import train_test_split\n",
    "from sklearn.metrics import mean_absolute_error"
   ]
  },
  {
   "cell_type": "code",
   "execution_count": 47,
   "metadata": {},
   "outputs": [],
   "source": [
    "obesity_df = pd.read_csv('cleaned_obesity_data.csv')"
   ]
  },
  {
   "attachments": {},
   "cell_type": "markdown",
   "metadata": {},
   "source": [
    "## Linear Regression Using All Predictors"
   ]
  },
  {
   "cell_type": "code",
   "execution_count": 48,
   "metadata": {},
   "outputs": [
    {
     "data": {
      "text/html": [
       "<div>\n",
       "<style scoped>\n",
       "    .dataframe tbody tr th:only-of-type {\n",
       "        vertical-align: middle;\n",
       "    }\n",
       "\n",
       "    .dataframe tbody tr th {\n",
       "        vertical-align: top;\n",
       "    }\n",
       "\n",
       "    .dataframe thead th {\n",
       "        text-align: right;\n",
       "    }\n",
       "</style>\n",
       "<table border=\"1\" class=\"dataframe\">\n",
       "  <thead>\n",
       "    <tr style=\"text-align: right;\">\n",
       "      <th></th>\n",
       "      <th>% Adults with Obesity</th>\n",
       "    </tr>\n",
       "  </thead>\n",
       "  <tbody>\n",
       "    <tr>\n",
       "      <th>0</th>\n",
       "      <td>37.0</td>\n",
       "    </tr>\n",
       "    <tr>\n",
       "      <th>1</th>\n",
       "      <td>33.0</td>\n",
       "    </tr>\n",
       "    <tr>\n",
       "      <th>2</th>\n",
       "      <td>46.0</td>\n",
       "    </tr>\n",
       "    <tr>\n",
       "      <th>3</th>\n",
       "      <td>38.0</td>\n",
       "    </tr>\n",
       "    <tr>\n",
       "      <th>4</th>\n",
       "      <td>33.0</td>\n",
       "    </tr>\n",
       "    <tr>\n",
       "      <th>...</th>\n",
       "      <td>...</td>\n",
       "    </tr>\n",
       "    <tr>\n",
       "      <th>2707</th>\n",
       "      <td>33.0</td>\n",
       "    </tr>\n",
       "    <tr>\n",
       "      <th>2708</th>\n",
       "      <td>20.0</td>\n",
       "    </tr>\n",
       "    <tr>\n",
       "      <th>2709</th>\n",
       "      <td>35.0</td>\n",
       "    </tr>\n",
       "    <tr>\n",
       "      <th>2710</th>\n",
       "      <td>30.0</td>\n",
       "    </tr>\n",
       "    <tr>\n",
       "      <th>2711</th>\n",
       "      <td>32.0</td>\n",
       "    </tr>\n",
       "  </tbody>\n",
       "</table>\n",
       "<p>2712 rows × 1 columns</p>\n",
       "</div>"
      ],
      "text/plain": [
       "      % Adults with Obesity\n",
       "0                      37.0\n",
       "1                      33.0\n",
       "2                      46.0\n",
       "3                      38.0\n",
       "4                      33.0\n",
       "...                     ...\n",
       "2707                   33.0\n",
       "2708                   20.0\n",
       "2709                   35.0\n",
       "2710                   30.0\n",
       "2711                   32.0\n",
       "\n",
       "[2712 rows x 1 columns]"
      ]
     },
     "execution_count": 48,
     "metadata": {},
     "output_type": "execute_result"
    }
   ],
   "source": [
    "# Separate data into only the variables we will be using:\n",
    "\n",
    "obesity_predictors = obesity_df[['Food Environment Index', '% Physically Inactive', '% Limited Access to Healthy Foods',\n",
    "       '% Frequent Physical Distress', '% Frequent Mental Distress',\n",
    "       '% With Access to Exercise Opportunities', 'Life Expectancy',\n",
    "       'Median Household Income', '% Uninsured Adults', '% Excessive Drinking']]\n",
    "\n",
    "obesity_rates = obesity_df[['% Adults with Obesity']]\n",
    "\n",
    "obesity_rates"
   ]
  },
  {
   "cell_type": "code",
   "execution_count": 49,
   "metadata": {},
   "outputs": [
    {
     "name": "stdout",
     "output_type": "stream",
     "text": [
      "[[ 3.69459285e-01  6.74911820e-01  3.58260684e-02 -4.62559804e-01\n",
      "   7.17898407e-02 -1.57349841e-02 -2.56986101e-01 -4.83386293e-05\n",
      "  -2.52574021e-02  5.88771389e-02]]\n"
     ]
    }
   ],
   "source": [
    "# Create the Model\n",
    "\n",
    "clf = LinearRegression()\n",
    "clf.fit(obesity_predictors, obesity_rates)\n",
    "print(clf.coef_)"
   ]
  },
  {
   "cell_type": "code",
   "execution_count": 50,
   "metadata": {},
   "outputs": [],
   "source": [
    "# Split data into training and testing data, we will use 8/2 testing to training ratio. \n",
    "X_train, X_test, y_train, y_test = train_test_split(obesity_predictors, obesity_rates, test_size = 0.2)"
   ]
  },
  {
   "cell_type": "code",
   "execution_count": 51,
   "metadata": {},
   "outputs": [
    {
     "data": {
      "text/plain": [
       "2.085757205126215"
      ]
     },
     "execution_count": 51,
     "metadata": {},
     "output_type": "execute_result"
    }
   ],
   "source": [
    "clf = LinearRegression()\n",
    "clf.fit(X_train, y_train)\n",
    "\n",
    "preds = clf.predict(X_test)\n",
    "\n",
    "mean_absolute_error(preds, y_test)"
   ]
  },
  {
   "attachments": {},
   "cell_type": "markdown",
   "metadata": {},
   "source": [
    "The above mean abbsolute error prediction tells us that the predictions were off by 2% on average."
   ]
  },
  {
   "cell_type": "code",
   "execution_count": 52,
   "metadata": {},
   "outputs": [
    {
     "data": {
      "text/plain": [
       "0.6503455644355645"
      ]
     },
     "execution_count": 52,
     "metadata": {},
     "output_type": "execute_result"
    }
   ],
   "source": [
    "# R squared value\n",
    "clf.score(X_train, y_train)"
   ]
  },
  {
   "attachments": {},
   "cell_type": "markdown",
   "metadata": {},
   "source": [
    "The above R squared value means that the linear model can explain about 66% of the variation in obesity rates using the predictors"
   ]
  },
  {
   "attachments": {},
   "cell_type": "markdown",
   "metadata": {},
   "source": [
    "## Linear Regression Model Using PCA Findings"
   ]
  },
  {
   "attachments": {},
   "cell_type": "markdown",
   "metadata": {},
   "source": [
    "The graphs derived from the principal component analysis showed us that the first principal component seemed to correlate with obesity rates the best. Within the first principal component, the food environment index, life expextancy, frequent physical distress, and median houshold income seem to correlate with obesity rates the best. Therefore, in this linear model, only these predictors will be used in the linear model. "
   ]
  },
  {
   "cell_type": "code",
   "execution_count": 53,
   "metadata": {},
   "outputs": [
    {
     "data": {
      "text/html": [
       "<div>\n",
       "<style scoped>\n",
       "    .dataframe tbody tr th:only-of-type {\n",
       "        vertical-align: middle;\n",
       "    }\n",
       "\n",
       "    .dataframe tbody tr th {\n",
       "        vertical-align: top;\n",
       "    }\n",
       "\n",
       "    .dataframe thead th {\n",
       "        text-align: right;\n",
       "    }\n",
       "</style>\n",
       "<table border=\"1\" class=\"dataframe\">\n",
       "  <thead>\n",
       "    <tr style=\"text-align: right;\">\n",
       "      <th></th>\n",
       "      <th>Food Environment Index</th>\n",
       "      <th>% Frequent Physical Distress</th>\n",
       "      <th>Life Expectancy</th>\n",
       "      <th>Median Household Income</th>\n",
       "    </tr>\n",
       "  </thead>\n",
       "  <tbody>\n",
       "    <tr>\n",
       "      <th>0</th>\n",
       "      <td>6.6</td>\n",
       "      <td>11.0</td>\n",
       "      <td>76.6</td>\n",
       "      <td>66444.0</td>\n",
       "    </tr>\n",
       "    <tr>\n",
       "      <th>1</th>\n",
       "      <td>7.5</td>\n",
       "      <td>10.0</td>\n",
       "      <td>77.7</td>\n",
       "      <td>65658.0</td>\n",
       "    </tr>\n",
       "    <tr>\n",
       "      <th>2</th>\n",
       "      <td>5.8</td>\n",
       "      <td>15.0</td>\n",
       "      <td>72.9</td>\n",
       "      <td>38649.0</td>\n",
       "    </tr>\n",
       "    <tr>\n",
       "      <th>3</th>\n",
       "      <td>7.4</td>\n",
       "      <td>13.0</td>\n",
       "      <td>73.6</td>\n",
       "      <td>48454.0</td>\n",
       "    </tr>\n",
       "    <tr>\n",
       "      <th>4</th>\n",
       "      <td>7.8</td>\n",
       "      <td>12.0</td>\n",
       "      <td>74.2</td>\n",
       "      <td>56894.0</td>\n",
       "    </tr>\n",
       "    <tr>\n",
       "      <th>...</th>\n",
       "      <td>...</td>\n",
       "      <td>...</td>\n",
       "      <td>...</td>\n",
       "      <td>...</td>\n",
       "    </tr>\n",
       "    <tr>\n",
       "      <th>2707</th>\n",
       "      <td>7.9</td>\n",
       "      <td>9.0</td>\n",
       "      <td>76.5</td>\n",
       "      <td>74677.0</td>\n",
       "    </tr>\n",
       "    <tr>\n",
       "      <th>2708</th>\n",
       "      <td>8.6</td>\n",
       "      <td>7.0</td>\n",
       "      <td>86.7</td>\n",
       "      <td>102709.0</td>\n",
       "    </tr>\n",
       "    <tr>\n",
       "      <th>2709</th>\n",
       "      <td>8.4</td>\n",
       "      <td>9.0</td>\n",
       "      <td>77.0</td>\n",
       "      <td>70162.0</td>\n",
       "    </tr>\n",
       "    <tr>\n",
       "      <th>2710</th>\n",
       "      <td>8.3</td>\n",
       "      <td>9.0</td>\n",
       "      <td>78.8</td>\n",
       "      <td>62176.0</td>\n",
       "    </tr>\n",
       "    <tr>\n",
       "      <th>2711</th>\n",
       "      <td>7.7</td>\n",
       "      <td>10.0</td>\n",
       "      <td>80.7</td>\n",
       "      <td>62509.0</td>\n",
       "    </tr>\n",
       "  </tbody>\n",
       "</table>\n",
       "<p>2712 rows × 4 columns</p>\n",
       "</div>"
      ],
      "text/plain": [
       "      Food Environment Index  % Frequent Physical Distress  Life Expectancy  \\\n",
       "0                        6.6                          11.0             76.6   \n",
       "1                        7.5                          10.0             77.7   \n",
       "2                        5.8                          15.0             72.9   \n",
       "3                        7.4                          13.0             73.6   \n",
       "4                        7.8                          12.0             74.2   \n",
       "...                      ...                           ...              ...   \n",
       "2707                     7.9                           9.0             76.5   \n",
       "2708                     8.6                           7.0             86.7   \n",
       "2709                     8.4                           9.0             77.0   \n",
       "2710                     8.3                           9.0             78.8   \n",
       "2711                     7.7                          10.0             80.7   \n",
       "\n",
       "      Median Household Income  \n",
       "0                     66444.0  \n",
       "1                     65658.0  \n",
       "2                     38649.0  \n",
       "3                     48454.0  \n",
       "4                     56894.0  \n",
       "...                       ...  \n",
       "2707                  74677.0  \n",
       "2708                 102709.0  \n",
       "2709                  70162.0  \n",
       "2710                  62176.0  \n",
       "2711                  62509.0  \n",
       "\n",
       "[2712 rows x 4 columns]"
      ]
     },
     "execution_count": 53,
     "metadata": {},
     "output_type": "execute_result"
    }
   ],
   "source": [
    "# Separate data into only the variables we will be using:\n",
    "\n",
    "obesity_predictors_pca = obesity_df[['Food Environment Index', '% Frequent Physical Distress',  'Life Expectancy', 'Median Household Income']]\n",
    "\n",
    "obesity_rates = obesity_df[['% Adults with Obesity']]\n",
    "\n",
    "obesity_predictors_pca"
   ]
  },
  {
   "cell_type": "code",
   "execution_count": 54,
   "metadata": {},
   "outputs": [
    {
     "name": "stdout",
     "output_type": "stream",
     "text": [
      "[[ 2.39880233e-01  6.78475609e-01 -4.10442322e-01 -7.54669113e-05]]\n"
     ]
    }
   ],
   "source": [
    "# Create the Model\n",
    "\n",
    "clf = LinearRegression()\n",
    "clf.fit(obesity_predictors_pca, obesity_rates)\n",
    "print(clf.coef_)"
   ]
  },
  {
   "cell_type": "code",
   "execution_count": 55,
   "metadata": {},
   "outputs": [],
   "source": [
    "# Split data into training and testing data, we will use 8/2 testing to training ratio. \n",
    "X_train, X_test, y_train, y_test = train_test_split(obesity_predictors_pca, obesity_rates, test_size = 0.2)"
   ]
  },
  {
   "cell_type": "code",
   "execution_count": 56,
   "metadata": {},
   "outputs": [
    {
     "data": {
      "text/plain": [
       "2.313123515735018"
      ]
     },
     "execution_count": 56,
     "metadata": {},
     "output_type": "execute_result"
    }
   ],
   "source": [
    "clf = LinearRegression()\n",
    "clf.fit(X_train, y_train)\n",
    "\n",
    "preds = clf.predict(X_test)\n",
    "\n",
    "mean_absolute_error(preds, y_test)"
   ]
  },
  {
   "attachments": {},
   "cell_type": "markdown",
   "metadata": {},
   "source": [
    "The mean absolute errror has not changed much from the previous linear model"
   ]
  },
  {
   "cell_type": "code",
   "execution_count": 57,
   "metadata": {},
   "outputs": [
    {
     "data": {
      "text/plain": [
       "0.5201066112076"
      ]
     },
     "execution_count": 57,
     "metadata": {},
     "output_type": "execute_result"
    }
   ],
   "source": [
    "# R squared value\n",
    "clf.score(X_train, y_train)"
   ]
  },
  {
   "attachments": {},
   "cell_type": "markdown",
   "metadata": {},
   "source": [
    "The R squared value reports that this linear model is worse than the previous one considering that only 52% of the variation in obesity rates is explained by the chosen predictors."
   ]
  }
 ],
 "metadata": {
  "kernelspec": {
   "display_name": "Python 3",
   "language": "python",
   "name": "python3"
  },
  "language_info": {
   "codemirror_mode": {
    "name": "ipython",
    "version": 3
   },
   "file_extension": ".py",
   "mimetype": "text/x-python",
   "name": "python",
   "nbconvert_exporter": "python",
   "pygments_lexer": "ipython3",
   "version": "3.8.9"
  },
  "orig_nbformat": 4
 },
 "nbformat": 4,
 "nbformat_minor": 2
}
